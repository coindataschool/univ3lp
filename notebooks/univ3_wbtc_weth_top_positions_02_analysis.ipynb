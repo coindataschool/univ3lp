{
 "cells": [
  {
   "cell_type": "code",
   "execution_count": 1,
   "metadata": {},
   "outputs": [],
   "source": [
    "import numpy as np\n",
    "import pandas as pd\n",
    "import dataframe_image as dfi # for saving styled data frame print-out table as png\n",
    "import seaborn as sns \n",
    "import statsmodels.formula.api as smf\n",
    "\n",
    "pd.set_option('display.max_columns', 15)\n",
    "pd.set_option('display.max_rows', 50)\n",
    "pd.options.display.float_format = '{:,.4f}'.format"
   ]
  },
  {
   "cell_type": "markdown",
   "metadata": {
    "tags": []
   },
   "source": [
    "## Analyze Top WBTC-WETH Uniswap V3 Pools \n",
    "\n",
    "This table of [Top Pools](https://revert.finance/#/top-positions?sort=underlying_value&underlying-value-from=20000&apr-from=20&token1=0xc02aaa39b223fe8d0a0e5c4f27ead9083c756cc2&token0=0x2260fac5e5542a773aa44fbcfedf7c193bc2c599&age-from=14)\n",
    "was scraped from revert finance. Check out the [scraping script](https://github.com/coindataschool/mixture/blob/main/notebook/univ3_wbtc_weth_top_positions_01_scrape_data.ipynb)."
   ]
  },
  {
   "cell_type": "code",
   "execution_count": 2,
   "metadata": {},
   "outputs": [
    {
     "data": {
      "text/html": [
       "<div>\n",
       "<style scoped>\n",
       "    .dataframe tbody tr th:only-of-type {\n",
       "        vertical-align: middle;\n",
       "    }\n",
       "\n",
       "    .dataframe tbody tr th {\n",
       "        vertical-align: top;\n",
       "    }\n",
       "\n",
       "    .dataframe thead th {\n",
       "        text-align: right;\n",
       "    }\n",
       "</style>\n",
       "<table border=\"1\" class=\"dataframe\">\n",
       "  <thead>\n",
       "    <tr style=\"text-align: right;\">\n",
       "      <th></th>\n",
       "      <th>pool_fees</th>\n",
       "      <th>PnL</th>\n",
       "      <th>APR</th>\n",
       "      <th>fee_APR</th>\n",
       "      <th>value</th>\n",
       "      <th>age</th>\n",
       "      <th>price_lwr</th>\n",
       "      <th>price_upr</th>\n",
       "    </tr>\n",
       "  </thead>\n",
       "  <tbody>\n",
       "    <tr>\n",
       "      <th>0</th>\n",
       "      <td>0.30%</td>\n",
       "      <td>85,084.1400</td>\n",
       "      <td>0.2030</td>\n",
       "      <td>0.2039</td>\n",
       "      <td>2,804,470.2800</td>\n",
       "      <td>54.5000</td>\n",
       "      <td>11.5061</td>\n",
       "      <td>15.1631</td>\n",
       "    </tr>\n",
       "    <tr>\n",
       "      <th>1</th>\n",
       "      <td>0.30%</td>\n",
       "      <td>142,183.5900</td>\n",
       "      <td>0.6714</td>\n",
       "      <td>0.3743</td>\n",
       "      <td>822,076.0200</td>\n",
       "      <td>76.1000</td>\n",
       "      <td>12.1445</td>\n",
       "      <td>13.6928</td>\n",
       "    </tr>\n",
       "    <tr>\n",
       "      <th>2</th>\n",
       "      <td>0.30%</td>\n",
       "      <td>40,051.5300</td>\n",
       "      <td>0.2746</td>\n",
       "      <td>0.2754</td>\n",
       "      <td>814,482.3700</td>\n",
       "      <td>69.5000</td>\n",
       "      <td>13.6108</td>\n",
       "      <td>15.9086</td>\n",
       "    </tr>\n",
       "    <tr>\n",
       "      <th>3</th>\n",
       "      <td>0.30%</td>\n",
       "      <td>37,183.8500</td>\n",
       "      <td>0.2396</td>\n",
       "      <td>0.2399</td>\n",
       "      <td>756,293.9600</td>\n",
       "      <td>74.9000</td>\n",
       "      <td>13.0511</td>\n",
       "      <td>15.3461</td>\n",
       "    </tr>\n",
       "    <tr>\n",
       "      <th>4</th>\n",
       "      <td>0.30%</td>\n",
       "      <td>162,142.6400</td>\n",
       "      <td>0.2068</td>\n",
       "      <td>0.2095</td>\n",
       "      <td>731,351.5100</td>\n",
       "      <td>460.3000</td>\n",
       "      <td>12.1445</td>\n",
       "      <td>16.1975</td>\n",
       "    </tr>\n",
       "    <tr>\n",
       "      <th>5</th>\n",
       "      <td>0.30%</td>\n",
       "      <td>33,903.5000</td>\n",
       "      <td>0.2386</td>\n",
       "      <td>0.2396</td>\n",
       "      <td>692,087.8000</td>\n",
       "      <td>74.9000</td>\n",
       "      <td>13.0511</td>\n",
       "      <td>15.3461</td>\n",
       "    </tr>\n",
       "    <tr>\n",
       "      <th>6</th>\n",
       "      <td>0.30%</td>\n",
       "      <td>12,674.2100</td>\n",
       "      <td>0.8756</td>\n",
       "      <td>0.9174</td>\n",
       "      <td>657,723.0300</td>\n",
       "      <td>15.2000</td>\n",
       "      <td>12.3650</td>\n",
       "      <td>14.5394</td>\n",
       "    </tr>\n",
       "    <tr>\n",
       "      <th>7</th>\n",
       "      <td>0.30%</td>\n",
       "      <td>19,732.6900</td>\n",
       "      <td>0.2082</td>\n",
       "      <td>0.2096</td>\n",
       "      <td>629,284.5000</td>\n",
       "      <td>55.0000</td>\n",
       "      <td>11.7151</td>\n",
       "      <td>15.6248</td>\n",
       "    </tr>\n",
       "    <tr>\n",
       "      <th>8</th>\n",
       "      <td>0.30%</td>\n",
       "      <td>18,400.4800</td>\n",
       "      <td>0.2065</td>\n",
       "      <td>0.2143</td>\n",
       "      <td>463,959.9000</td>\n",
       "      <td>87.0000</td>\n",
       "      <td>11.3008</td>\n",
       "      <td>15.2543</td>\n",
       "    </tr>\n",
       "    <tr>\n",
       "      <th>9</th>\n",
       "      <td>0.30%</td>\n",
       "      <td>22,634.5900</td>\n",
       "      <td>0.2063</td>\n",
       "      <td>0.2599</td>\n",
       "      <td>356,716.9300</td>\n",
       "      <td>110.4000</td>\n",
       "      <td>12.0718</td>\n",
       "      <td>15.9086</td>\n",
       "    </tr>\n",
       "    <tr>\n",
       "      <th>10</th>\n",
       "      <td>0.30%</td>\n",
       "      <td>16,692.6000</td>\n",
       "      <td>0.2382</td>\n",
       "      <td>0.2395</td>\n",
       "      <td>341,125.9700</td>\n",
       "      <td>75.0000</td>\n",
       "      <td>13.0511</td>\n",
       "      <td>15.3461</td>\n",
       "    </tr>\n",
       "    <tr>\n",
       "      <th>11</th>\n",
       "      <td>0.05%</td>\n",
       "      <td>8,984.1600</td>\n",
       "      <td>0.2465</td>\n",
       "      <td>0.2478</td>\n",
       "      <td>255,115.5100</td>\n",
       "      <td>52.1000</td>\n",
       "      <td>12.4768</td>\n",
       "      <td>15.3768</td>\n",
       "    </tr>\n",
       "    <tr>\n",
       "      <th>12</th>\n",
       "      <td>0.30%</td>\n",
       "      <td>14,189.5800</td>\n",
       "      <td>0.2644</td>\n",
       "      <td>0.2979</td>\n",
       "      <td>247,074.0300</td>\n",
       "      <td>78.7000</td>\n",
       "      <td>13.0511</td>\n",
       "      <td>15.3461</td>\n",
       "    </tr>\n",
       "    <tr>\n",
       "      <th>13</th>\n",
       "      <td>0.30%</td>\n",
       "      <td>12,328.0800</td>\n",
       "      <td>0.2643</td>\n",
       "      <td>0.2979</td>\n",
       "      <td>214,708.8900</td>\n",
       "      <td>78.7000</td>\n",
       "      <td>13.0511</td>\n",
       "      <td>15.3461</td>\n",
       "    </tr>\n",
       "    <tr>\n",
       "      <th>14</th>\n",
       "      <td>0.05%</td>\n",
       "      <td>9,375.8900</td>\n",
       "      <td>0.2055</td>\n",
       "      <td>0.2147</td>\n",
       "      <td>212,414.1900</td>\n",
       "      <td>99.9000</td>\n",
       "      <td>11.3008</td>\n",
       "      <td>16.5082</td>\n",
       "    </tr>\n",
       "    <tr>\n",
       "      <th>15</th>\n",
       "      <td>0.05%</td>\n",
       "      <td>8,225.3600</td>\n",
       "      <td>0.2750</td>\n",
       "      <td>0.3004</td>\n",
       "      <td>127,992.8900</td>\n",
       "      <td>86.2000</td>\n",
       "      <td>12.2542</td>\n",
       "      <td>14.2801</td>\n",
       "    </tr>\n",
       "    <tr>\n",
       "      <th>16</th>\n",
       "      <td>0.30%</td>\n",
       "      <td>12,906.7600</td>\n",
       "      <td>0.4037</td>\n",
       "      <td>0.4043</td>\n",
       "      <td>107,849.1300</td>\n",
       "      <td>108.2000</td>\n",
       "      <td>12.4394</td>\n",
       "      <td>13.2086</td>\n",
       "    </tr>\n",
       "    <tr>\n",
       "      <th>17</th>\n",
       "      <td>0.30%</td>\n",
       "      <td>5,371.6500</td>\n",
       "      <td>0.2131</td>\n",
       "      <td>0.2226</td>\n",
       "      <td>103,823.7600</td>\n",
       "      <td>88.4000</td>\n",
       "      <td>11.8565</td>\n",
       "      <td>16.1006</td>\n",
       "    </tr>\n",
       "    <tr>\n",
       "      <th>18</th>\n",
       "      <td>0.30%</td>\n",
       "      <td>2,581.3400</td>\n",
       "      <td>0.2176</td>\n",
       "      <td>0.2239</td>\n",
       "      <td>76,526.8100</td>\n",
       "      <td>56.5000</td>\n",
       "      <td>11.4373</td>\n",
       "      <td>15.9086</td>\n",
       "    </tr>\n",
       "    <tr>\n",
       "      <th>19</th>\n",
       "      <td>0.30%</td>\n",
       "      <td>3,611.1900</td>\n",
       "      <td>0.2386</td>\n",
       "      <td>0.2473</td>\n",
       "      <td>61,502.7100</td>\n",
       "      <td>89.6000</td>\n",
       "      <td>12.4394</td>\n",
       "      <td>14.1097</td>\n",
       "    </tr>\n",
       "    <tr>\n",
       "      <th>20</th>\n",
       "      <td>0.30%</td>\n",
       "      <td>567.1700</td>\n",
       "      <td>0.3112</td>\n",
       "      <td>0.3623</td>\n",
       "      <td>54,553.8400</td>\n",
       "      <td>15.8000</td>\n",
       "      <td>11.3688</td>\n",
       "      <td>16.2950</td>\n",
       "    </tr>\n",
       "    <tr>\n",
       "      <th>21</th>\n",
       "      <td>0.30%</td>\n",
       "      <td>6,068.2600</td>\n",
       "      <td>0.2143</td>\n",
       "      <td>0.2294</td>\n",
       "      <td>54,533.0200</td>\n",
       "      <td>190.2000</td>\n",
       "      <td>12.3650</td>\n",
       "      <td>15.3461</td>\n",
       "    </tr>\n",
       "    <tr>\n",
       "      <th>22</th>\n",
       "      <td>0.05%</td>\n",
       "      <td>2,667.1200</td>\n",
       "      <td>0.2711</td>\n",
       "      <td>0.3414</td>\n",
       "      <td>41,637.3900</td>\n",
       "      <td>84.8000</td>\n",
       "      <td>12.3527</td>\n",
       "      <td>14.9523</td>\n",
       "    </tr>\n",
       "    <tr>\n",
       "      <th>23</th>\n",
       "      <td>0.30%</td>\n",
       "      <td>1,165.6400</td>\n",
       "      <td>0.2142</td>\n",
       "      <td>0.2563</td>\n",
       "      <td>39,793.0500</td>\n",
       "      <td>49.6000</td>\n",
       "      <td>12.5143</td>\n",
       "      <td>15.3461</td>\n",
       "    </tr>\n",
       "    <tr>\n",
       "      <th>24</th>\n",
       "      <td>0.30%</td>\n",
       "      <td>1,112.9300</td>\n",
       "      <td>0.2173</td>\n",
       "      <td>0.2213</td>\n",
       "      <td>34,606.0500</td>\n",
       "      <td>54.0000</td>\n",
       "      <td>11.8565</td>\n",
       "      <td>14.7149</td>\n",
       "    </tr>\n",
       "    <tr>\n",
       "      <th>25</th>\n",
       "      <td>0.05%</td>\n",
       "      <td>1,704.0000</td>\n",
       "      <td>0.2288</td>\n",
       "      <td>0.2376</td>\n",
       "      <td>32,896.3200</td>\n",
       "      <td>82.5000</td>\n",
       "      <td>11.1104</td>\n",
       "      <td>14.7002</td>\n",
       "    </tr>\n",
       "    <tr>\n",
       "      <th>26</th>\n",
       "      <td>0.30%</td>\n",
       "      <td>932.6800</td>\n",
       "      <td>0.2129</td>\n",
       "      <td>0.2571</td>\n",
       "      <td>32,150.0300</td>\n",
       "      <td>49.4000</td>\n",
       "      <td>12.5143</td>\n",
       "      <td>15.3461</td>\n",
       "    </tr>\n",
       "    <tr>\n",
       "      <th>27</th>\n",
       "      <td>0.30%</td>\n",
       "      <td>932.8500</td>\n",
       "      <td>0.6369</td>\n",
       "      <td>0.6682</td>\n",
       "      <td>29,444.7200</td>\n",
       "      <td>18.9000</td>\n",
       "      <td>12.5143</td>\n",
       "      <td>14.8926</td>\n",
       "    </tr>\n",
       "    <tr>\n",
       "      <th>28</th>\n",
       "      <td>0.05%</td>\n",
       "      <td>4,474.5300</td>\n",
       "      <td>0.2810</td>\n",
       "      <td>0.2850</td>\n",
       "      <td>26,467.2100</td>\n",
       "      <td>219.1000</td>\n",
       "      <td>12.5268</td>\n",
       "      <td>13.6791</td>\n",
       "    </tr>\n",
       "    <tr>\n",
       "      <th>29</th>\n",
       "      <td>0.30%</td>\n",
       "      <td>7,075.5300</td>\n",
       "      <td>0.2163</td>\n",
       "      <td>0.2200</td>\n",
       "      <td>22,919.1900</td>\n",
       "      <td>518.2000</td>\n",
       "      <td>14.1947</td>\n",
       "      <td>16.6908</td>\n",
       "    </tr>\n",
       "    <tr>\n",
       "      <th>30</th>\n",
       "      <td>0.30%</td>\n",
       "      <td>833.8900</td>\n",
       "      <td>1.0248</td>\n",
       "      <td>1.0991</td>\n",
       "      <td>22,126.1500</td>\n",
       "      <td>16.5000</td>\n",
       "      <td>12.6654</td>\n",
       "      <td>13.6108</td>\n",
       "    </tr>\n",
       "  </tbody>\n",
       "</table>\n",
       "</div>"
      ],
      "text/plain": [
       "   pool_fees          PnL    APR  fee_APR          value      age  price_lwr  \\\n",
       "0      0.30%  85,084.1400 0.2030   0.2039 2,804,470.2800  54.5000    11.5061   \n",
       "1      0.30% 142,183.5900 0.6714   0.3743   822,076.0200  76.1000    12.1445   \n",
       "2      0.30%  40,051.5300 0.2746   0.2754   814,482.3700  69.5000    13.6108   \n",
       "3      0.30%  37,183.8500 0.2396   0.2399   756,293.9600  74.9000    13.0511   \n",
       "4      0.30% 162,142.6400 0.2068   0.2095   731,351.5100 460.3000    12.1445   \n",
       "5      0.30%  33,903.5000 0.2386   0.2396   692,087.8000  74.9000    13.0511   \n",
       "6      0.30%  12,674.2100 0.8756   0.9174   657,723.0300  15.2000    12.3650   \n",
       "7      0.30%  19,732.6900 0.2082   0.2096   629,284.5000  55.0000    11.7151   \n",
       "8      0.30%  18,400.4800 0.2065   0.2143   463,959.9000  87.0000    11.3008   \n",
       "9      0.30%  22,634.5900 0.2063   0.2599   356,716.9300 110.4000    12.0718   \n",
       "10     0.30%  16,692.6000 0.2382   0.2395   341,125.9700  75.0000    13.0511   \n",
       "11     0.05%   8,984.1600 0.2465   0.2478   255,115.5100  52.1000    12.4768   \n",
       "12     0.30%  14,189.5800 0.2644   0.2979   247,074.0300  78.7000    13.0511   \n",
       "13     0.30%  12,328.0800 0.2643   0.2979   214,708.8900  78.7000    13.0511   \n",
       "14     0.05%   9,375.8900 0.2055   0.2147   212,414.1900  99.9000    11.3008   \n",
       "15     0.05%   8,225.3600 0.2750   0.3004   127,992.8900  86.2000    12.2542   \n",
       "16     0.30%  12,906.7600 0.4037   0.4043   107,849.1300 108.2000    12.4394   \n",
       "17     0.30%   5,371.6500 0.2131   0.2226   103,823.7600  88.4000    11.8565   \n",
       "18     0.30%   2,581.3400 0.2176   0.2239    76,526.8100  56.5000    11.4373   \n",
       "19     0.30%   3,611.1900 0.2386   0.2473    61,502.7100  89.6000    12.4394   \n",
       "20     0.30%     567.1700 0.3112   0.3623    54,553.8400  15.8000    11.3688   \n",
       "21     0.30%   6,068.2600 0.2143   0.2294    54,533.0200 190.2000    12.3650   \n",
       "22     0.05%   2,667.1200 0.2711   0.3414    41,637.3900  84.8000    12.3527   \n",
       "23     0.30%   1,165.6400 0.2142   0.2563    39,793.0500  49.6000    12.5143   \n",
       "24     0.30%   1,112.9300 0.2173   0.2213    34,606.0500  54.0000    11.8565   \n",
       "25     0.05%   1,704.0000 0.2288   0.2376    32,896.3200  82.5000    11.1104   \n",
       "26     0.30%     932.6800 0.2129   0.2571    32,150.0300  49.4000    12.5143   \n",
       "27     0.30%     932.8500 0.6369   0.6682    29,444.7200  18.9000    12.5143   \n",
       "28     0.05%   4,474.5300 0.2810   0.2850    26,467.2100 219.1000    12.5268   \n",
       "29     0.30%   7,075.5300 0.2163   0.2200    22,919.1900 518.2000    14.1947   \n",
       "30     0.30%     833.8900 1.0248   1.0991    22,126.1500  16.5000    12.6654   \n",
       "\n",
       "    price_upr  \n",
       "0     15.1631  \n",
       "1     13.6928  \n",
       "2     15.9086  \n",
       "3     15.3461  \n",
       "4     16.1975  \n",
       "5     15.3461  \n",
       "6     14.5394  \n",
       "7     15.6248  \n",
       "8     15.2543  \n",
       "9     15.9086  \n",
       "10    15.3461  \n",
       "11    15.3768  \n",
       "12    15.3461  \n",
       "13    15.3461  \n",
       "14    16.5082  \n",
       "15    14.2801  \n",
       "16    13.2086  \n",
       "17    16.1006  \n",
       "18    15.9086  \n",
       "19    14.1097  \n",
       "20    16.2950  \n",
       "21    15.3461  \n",
       "22    14.9523  \n",
       "23    15.3461  \n",
       "24    14.7149  \n",
       "25    14.7002  \n",
       "26    15.3461  \n",
       "27    14.8926  \n",
       "28    13.6791  \n",
       "29    16.6908  \n",
       "30    13.6108  "
      ]
     },
     "execution_count": 2,
     "metadata": {},
     "output_type": "execute_result"
    }
   ],
   "source": [
    "df = pd.read_csv('../data/univ3_wbtc_weth_lp_top_positions.csv')\\\n",
    "       .drop(columns=['Unnamed: 0', 'url'])\n",
    "df['APR'] = df.APR/100\n",
    "df['fee_APR'] = df.fee_APR/100\n",
    "df"
   ]
  },
  {
   "cell_type": "code",
   "execution_count": 3,
   "metadata": {},
   "outputs": [
    {
     "data": {
      "text/plain": [
       "0.30%    25\n",
       "0.05%     6\n",
       "Name: pool_fees, dtype: int64"
      ]
     },
     "execution_count": 3,
     "metadata": {},
     "output_type": "execute_result"
    }
   ],
   "source": [
    "df['pool_fees'].value_counts()"
   ]
  },
  {
   "cell_type": "markdown",
   "metadata": {},
   "source": [
    "### Age & APR by Pool Type"
   ]
  },
  {
   "cell_type": "code",
   "execution_count": 4,
   "metadata": {},
   "outputs": [
    {
     "name": "stderr",
     "output_type": "stream",
     "text": [
      "[1118/082259.925050:INFO:headless_shell.cc(657)] Written to file /var/folders/qq/v47zfw7s1kn38gw67q4v194r0000gn/T/tmpjyk7ql9q/temp.png.\n"
     ]
    }
   ],
   "source": [
    "ha = df.groupby('pool_fees')[['age', 'fee_APR', 'APR']].aggregate(['min']) \n",
    "dfi.export(ha, '../png/min_age_apr_by_pool_type.png')"
   ]
  },
  {
   "cell_type": "code",
   "execution_count": 5,
   "metadata": {},
   "outputs": [
    {
     "name": "stderr",
     "output_type": "stream",
     "text": [
      "[1118/082300.697315:INFO:headless_shell.cc(657)] Written to file /var/folders/qq/v47zfw7s1kn38gw67q4v194r0000gn/T/tmp26ilc4nu/temp.png.\n"
     ]
    }
   ],
   "source": [
    "ha = df.groupby('pool_fees')[['age', 'fee_APR', 'APR']].aggregate(['median'])\n",
    "dfi.export(ha, '../png/med_age_apr_by_pool_type.png')"
   ]
  },
  {
   "cell_type": "code",
   "execution_count": 6,
   "metadata": {},
   "outputs": [
    {
     "name": "stderr",
     "output_type": "stream",
     "text": [
      "[1118/082301.466608:INFO:headless_shell.cc(657)] Written to file /var/folders/qq/v47zfw7s1kn38gw67q4v194r0000gn/T/tmpnk5m925h/temp.png.\n"
     ]
    }
   ],
   "source": [
    "ha = df.groupby('pool_fees')[['age', 'fee_APR', 'APR']].aggregate(['max'])\n",
    "dfi.export(ha, '../png/max_age_apr_by_pool_type.png')"
   ]
  },
  {
   "cell_type": "markdown",
   "metadata": {},
   "source": [
    "### Price Range by Pool Type"
   ]
  },
  {
   "cell_type": "code",
   "execution_count": 7,
   "metadata": {},
   "outputs": [
    {
     "name": "stderr",
     "output_type": "stream",
     "text": [
      "[1118/082302.230605:INFO:headless_shell.cc(657)] Written to file /var/folders/qq/v47zfw7s1kn38gw67q4v194r0000gn/T/tmprjm0rdaw/temp.png.\n"
     ]
    }
   ],
   "source": [
    "ha = df.groupby('pool_fees')[['price_lwr', 'price_upr']].aggregate(['min', 'median', 'max'])\n",
    "dfi.export(ha, '../png/price_rng_by_pool_type.png')"
   ]
  },
  {
   "cell_type": "markdown",
   "metadata": {},
   "source": [
    "### Explore the relationship between APR, age, and price range"
   ]
  },
  {
   "cell_type": "code",
   "execution_count": 8,
   "metadata": {},
   "outputs": [
    {
     "data": {
      "text/html": [
       "<div>\n",
       "<style scoped>\n",
       "    .dataframe tbody tr th:only-of-type {\n",
       "        vertical-align: middle;\n",
       "    }\n",
       "\n",
       "    .dataframe tbody tr th {\n",
       "        vertical-align: top;\n",
       "    }\n",
       "\n",
       "    .dataframe thead th {\n",
       "        text-align: right;\n",
       "    }\n",
       "</style>\n",
       "<table border=\"1\" class=\"dataframe\">\n",
       "  <thead>\n",
       "    <tr style=\"text-align: right;\">\n",
       "      <th></th>\n",
       "      <th>pool_fees</th>\n",
       "      <th>PnL</th>\n",
       "      <th>APR</th>\n",
       "      <th>fee_APR</th>\n",
       "      <th>value</th>\n",
       "      <th>age</th>\n",
       "      <th>price_lwr</th>\n",
       "      <th>price_upr</th>\n",
       "      <th>log_apr</th>\n",
       "      <th>log_age</th>\n",
       "      <th>width</th>\n",
       "    </tr>\n",
       "  </thead>\n",
       "  <tbody>\n",
       "    <tr>\n",
       "      <th>0</th>\n",
       "      <td>0.30%</td>\n",
       "      <td>85,084.1400</td>\n",
       "      <td>0.2030</td>\n",
       "      <td>0.2039</td>\n",
       "      <td>2,804,470.2800</td>\n",
       "      <td>54.5000</td>\n",
       "      <td>11.5061</td>\n",
       "      <td>15.1631</td>\n",
       "      <td>-1.5945</td>\n",
       "      <td>3.9982</td>\n",
       "      <td>3.6570</td>\n",
       "    </tr>\n",
       "    <tr>\n",
       "      <th>1</th>\n",
       "      <td>0.30%</td>\n",
       "      <td>142,183.5900</td>\n",
       "      <td>0.6714</td>\n",
       "      <td>0.3743</td>\n",
       "      <td>822,076.0200</td>\n",
       "      <td>76.1000</td>\n",
       "      <td>12.1445</td>\n",
       "      <td>13.6928</td>\n",
       "      <td>-0.3984</td>\n",
       "      <td>4.3320</td>\n",
       "      <td>1.5483</td>\n",
       "    </tr>\n",
       "    <tr>\n",
       "      <th>2</th>\n",
       "      <td>0.30%</td>\n",
       "      <td>40,051.5300</td>\n",
       "      <td>0.2746</td>\n",
       "      <td>0.2754</td>\n",
       "      <td>814,482.3700</td>\n",
       "      <td>69.5000</td>\n",
       "      <td>13.6108</td>\n",
       "      <td>15.9086</td>\n",
       "      <td>-1.2924</td>\n",
       "      <td>4.2413</td>\n",
       "      <td>2.2978</td>\n",
       "    </tr>\n",
       "    <tr>\n",
       "      <th>3</th>\n",
       "      <td>0.30%</td>\n",
       "      <td>37,183.8500</td>\n",
       "      <td>0.2396</td>\n",
       "      <td>0.2399</td>\n",
       "      <td>756,293.9600</td>\n",
       "      <td>74.9000</td>\n",
       "      <td>13.0511</td>\n",
       "      <td>15.3461</td>\n",
       "      <td>-1.4288</td>\n",
       "      <td>4.3162</td>\n",
       "      <td>2.2950</td>\n",
       "    </tr>\n",
       "    <tr>\n",
       "      <th>4</th>\n",
       "      <td>0.30%</td>\n",
       "      <td>162,142.6400</td>\n",
       "      <td>0.2068</td>\n",
       "      <td>0.2095</td>\n",
       "      <td>731,351.5100</td>\n",
       "      <td>460.3000</td>\n",
       "      <td>12.1445</td>\n",
       "      <td>16.1975</td>\n",
       "      <td>-1.5760</td>\n",
       "      <td>6.1319</td>\n",
       "      <td>4.0530</td>\n",
       "    </tr>\n",
       "  </tbody>\n",
       "</table>\n",
       "</div>"
      ],
      "text/plain": [
       "  pool_fees          PnL    APR  fee_APR          value      age  price_lwr  \\\n",
       "0     0.30%  85,084.1400 0.2030   0.2039 2,804,470.2800  54.5000    11.5061   \n",
       "1     0.30% 142,183.5900 0.6714   0.3743   822,076.0200  76.1000    12.1445   \n",
       "2     0.30%  40,051.5300 0.2746   0.2754   814,482.3700  69.5000    13.6108   \n",
       "3     0.30%  37,183.8500 0.2396   0.2399   756,293.9600  74.9000    13.0511   \n",
       "4     0.30% 162,142.6400 0.2068   0.2095   731,351.5100 460.3000    12.1445   \n",
       "\n",
       "   price_upr  log_apr  log_age  width  \n",
       "0    15.1631  -1.5945   3.9982 3.6570  \n",
       "1    13.6928  -0.3984   4.3320 1.5483  \n",
       "2    15.9086  -1.2924   4.2413 2.2978  \n",
       "3    15.3461  -1.4288   4.3162 2.2950  \n",
       "4    16.1975  -1.5760   6.1319 4.0530  "
      ]
     },
     "execution_count": 8,
     "metadata": {},
     "output_type": "execute_result"
    }
   ],
   "source": [
    "df['log_apr'] = np.log(df['APR'])\n",
    "df['log_age'] = np.log(df['age'])\n",
    "df['width'] = df.price_upr - df.price_lwr\n",
    "df.head()"
   ]
  },
  {
   "cell_type": "code",
   "execution_count": 9,
   "metadata": {},
   "outputs": [
    {
     "data": {
      "image/png": "[encoded data removed]",
      "text/plain": [
       "<Figure size 500x500 with 1 Axes>"
      ]
     },
     "metadata": {},
     "output_type": "display_data"
    }
   ],
   "source": [
    "sns.displot(data=df, x='APR', bins=50);"
   ]
  },
  {
   "cell_type": "code",
   "execution_count": 10,
   "metadata": {},
   "outputs": [
    {
     "data": {
      "image/png": "[encoded data removed]",
      "text/plain": [
       "<Figure size 500x500 with 1 Axes>"
      ]
     },
     "metadata": {},
     "output_type": "display_data"
    }
   ],
   "source": [
    "sns.displot(data=df, x='log_apr', bins=50);"
   ]
  },
  {
   "cell_type": "code",
   "execution_count": 11,
   "metadata": {},
   "outputs": [
    {
     "data": {
      "image/png": "[encoded data removed]",
      "text/plain": [
       "<Figure size 500x500 with 1 Axes>"
      ]
     },
     "metadata": {},
     "output_type": "display_data"
    }
   ],
   "source": [
    "sns.displot(data=df, x='log_age', bins=50);"
   ]
  },
  {
   "cell_type": "code",
   "execution_count": 12,
   "metadata": {},
   "outputs": [
    {
     "data": {
      "image/png": "[encoded data removed]",
      "text/plain": [
       "<Figure size 500x500 with 1 Axes>"
      ]
     },
     "metadata": {},
     "output_type": "display_data"
    }
   ],
   "source": [
    "sns.displot(data=df, x='width', bins=50);"
   ]
  },
  {
   "cell_type": "code",
   "execution_count": 13,
   "metadata": {},
   "outputs": [
    {
     "data": {
      "text/html": [
       "<div>\n",
       "<style scoped>\n",
       "    .dataframe tbody tr th:only-of-type {\n",
       "        vertical-align: middle;\n",
       "    }\n",
       "\n",
       "    .dataframe tbody tr th {\n",
       "        vertical-align: top;\n",
       "    }\n",
       "\n",
       "    .dataframe thead th {\n",
       "        text-align: right;\n",
       "    }\n",
       "</style>\n",
       "<table border=\"1\" class=\"dataframe\">\n",
       "  <thead>\n",
       "    <tr style=\"text-align: right;\">\n",
       "      <th></th>\n",
       "      <th>APR</th>\n",
       "      <th>age</th>\n",
       "      <th>width</th>\n",
       "    </tr>\n",
       "  </thead>\n",
       "  <tbody>\n",
       "    <tr>\n",
       "      <th>APR</th>\n",
       "      <td>1.0000</td>\n",
       "      <td>-0.2740</td>\n",
       "      <td>-0.4822</td>\n",
       "    </tr>\n",
       "    <tr>\n",
       "      <th>age</th>\n",
       "      <td>-0.2740</td>\n",
       "      <td>1.0000</td>\n",
       "      <td>0.0295</td>\n",
       "    </tr>\n",
       "    <tr>\n",
       "      <th>width</th>\n",
       "      <td>-0.4822</td>\n",
       "      <td>0.0295</td>\n",
       "      <td>1.0000</td>\n",
       "    </tr>\n",
       "  </tbody>\n",
       "</table>\n",
       "</div>"
      ],
      "text/plain": [
       "          APR     age   width\n",
       "APR    1.0000 -0.2740 -0.4822\n",
       "age   -0.2740  1.0000  0.0295\n",
       "width -0.4822  0.0295  1.0000"
      ]
     },
     "execution_count": 13,
     "metadata": {},
     "output_type": "execute_result"
    }
   ],
   "source": [
    "df[['APR', 'age', 'width']].corr()"
   ]
  },
  {
   "cell_type": "code",
   "execution_count": 14,
   "metadata": {},
   "outputs": [
    {
     "data": {
      "text/html": [
       "<div>\n",
       "<style scoped>\n",
       "    .dataframe tbody tr th:only-of-type {\n",
       "        vertical-align: middle;\n",
       "    }\n",
       "\n",
       "    .dataframe tbody tr th {\n",
       "        vertical-align: top;\n",
       "    }\n",
       "\n",
       "    .dataframe thead th {\n",
       "        text-align: right;\n",
       "    }\n",
       "</style>\n",
       "<table border=\"1\" class=\"dataframe\">\n",
       "  <thead>\n",
       "    <tr style=\"text-align: right;\">\n",
       "      <th></th>\n",
       "      <th>APR</th>\n",
       "      <th>log_age</th>\n",
       "      <th>width</th>\n",
       "    </tr>\n",
       "  </thead>\n",
       "  <tbody>\n",
       "    <tr>\n",
       "      <th>APR</th>\n",
       "      <td>1.0000</td>\n",
       "      <td>-0.5657</td>\n",
       "      <td>-0.4822</td>\n",
       "    </tr>\n",
       "    <tr>\n",
       "      <th>log_age</th>\n",
       "      <td>-0.5657</td>\n",
       "      <td>1.0000</td>\n",
       "      <td>0.0179</td>\n",
       "    </tr>\n",
       "    <tr>\n",
       "      <th>width</th>\n",
       "      <td>-0.4822</td>\n",
       "      <td>0.0179</td>\n",
       "      <td>1.0000</td>\n",
       "    </tr>\n",
       "  </tbody>\n",
       "</table>\n",
       "</div>"
      ],
      "text/plain": [
       "            APR  log_age   width\n",
       "APR      1.0000  -0.5657 -0.4822\n",
       "log_age -0.5657   1.0000  0.0179\n",
       "width   -0.4822   0.0179  1.0000"
      ]
     },
     "execution_count": 14,
     "metadata": {},
     "output_type": "execute_result"
    }
   ],
   "source": [
    "df[['APR', 'log_age', 'width']].corr()"
   ]
  },
  {
   "cell_type": "code",
   "execution_count": 15,
   "metadata": {},
   "outputs": [
    {
     "data": {
      "text/html": [
       "<div>\n",
       "<style scoped>\n",
       "    .dataframe tbody tr th:only-of-type {\n",
       "        vertical-align: middle;\n",
       "    }\n",
       "\n",
       "    .dataframe tbody tr th {\n",
       "        vertical-align: top;\n",
       "    }\n",
       "\n",
       "    .dataframe thead th {\n",
       "        text-align: right;\n",
       "    }\n",
       "</style>\n",
       "<table border=\"1\" class=\"dataframe\">\n",
       "  <thead>\n",
       "    <tr style=\"text-align: right;\">\n",
       "      <th></th>\n",
       "      <th>log_apr</th>\n",
       "      <th>log_age</th>\n",
       "      <th>width</th>\n",
       "    </tr>\n",
       "  </thead>\n",
       "  <tbody>\n",
       "    <tr>\n",
       "      <th>log_apr</th>\n",
       "      <td>1.0000</td>\n",
       "      <td>-0.5611</td>\n",
       "      <td>-0.5384</td>\n",
       "    </tr>\n",
       "    <tr>\n",
       "      <th>log_age</th>\n",
       "      <td>-0.5611</td>\n",
       "      <td>1.0000</td>\n",
       "      <td>0.0179</td>\n",
       "    </tr>\n",
       "    <tr>\n",
       "      <th>width</th>\n",
       "      <td>-0.5384</td>\n",
       "      <td>0.0179</td>\n",
       "      <td>1.0000</td>\n",
       "    </tr>\n",
       "  </tbody>\n",
       "</table>\n",
       "</div>"
      ],
      "text/plain": [
       "         log_apr  log_age   width\n",
       "log_apr   1.0000  -0.5611 -0.5384\n",
       "log_age  -0.5611   1.0000  0.0179\n",
       "width    -0.5384   0.0179  1.0000"
      ]
     },
     "execution_count": 15,
     "metadata": {},
     "output_type": "execute_result"
    }
   ],
   "source": [
    "df[['log_apr', 'log_age', 'width']].corr()"
   ]
  },
  {
   "cell_type": "code",
   "execution_count": 16,
   "metadata": {},
   "outputs": [
    {
     "data": {
      "text/plain": [
       "<seaborn.axisgrid.FacetGrid at 0x136cc5690>"
      ]
     },
     "execution_count": 16,
     "metadata": {},
     "output_type": "execute_result"
    },
    {
     "data": {
      "image/png": "[encoded data removed]",
      "text/plain": [
       "<Figure size 593.75x500 with 1 Axes>"
      ]
     },
     "metadata": {},
     "output_type": "display_data"
    }
   ],
   "source": [
    "sns.relplot(data=df, x='width', y='log_apr', hue='pool_fees')"
   ]
  },
  {
   "cell_type": "code",
   "execution_count": 17,
   "metadata": {},
   "outputs": [
    {
     "data": {
      "text/plain": [
       "<seaborn.axisgrid.FacetGrid at 0x1372b9780>"
      ]
     },
     "execution_count": 17,
     "metadata": {},
     "output_type": "execute_result"
    },
    {
     "data": {
      "image/png": "[encoded data removed]",
      "text/plain": [
       "<Figure size 593.75x500 with 1 Axes>"
      ]
     },
     "metadata": {},
     "output_type": "display_data"
    }
   ],
   "source": [
    "sns.relplot(data=df, x='log_age', y='log_apr', hue='pool_fees')"
   ]
  },
  {
   "cell_type": "code",
   "execution_count": 18,
   "metadata": {},
   "outputs": [
    {
     "data": {
      "text/html": [
       "<table class=\"simpletable\">\n",
       "<caption>OLS Regression Results</caption>\n",
       "<tr>\n",
       "  <th>Dep. Variable:</th>         <td>log_apr</td>     <th>  R-squared:         </th> <td>   0.594</td>\n",
       "</tr>\n",
       "<tr>\n",
       "  <th>Model:</th>                   <td>OLS</td>       <th>  Adj. R-squared:    </th> <td>   0.565</td>\n",
       "</tr>\n",
       "<tr>\n",
       "  <th>Method:</th>             <td>Least Squares</td>  <th>  F-statistic:       </th> <td>   20.49</td>\n",
       "</tr>\n",
       "<tr>\n",
       "  <th>Date:</th>             <td>Fri, 18 Nov 2022</td> <th>  Prob (F-statistic):</th> <td>3.30e-06</td>\n",
       "</tr>\n",
       "<tr>\n",
       "  <th>Time:</th>                 <td>08:23:05</td>     <th>  Log-Likelihood:    </th> <td> -3.9952</td>\n",
       "</tr>\n",
       "<tr>\n",
       "  <th>No. Observations:</th>      <td>    31</td>      <th>  AIC:               </th> <td>   13.99</td>\n",
       "</tr>\n",
       "<tr>\n",
       "  <th>Df Residuals:</th>          <td>    28</td>      <th>  BIC:               </th> <td>   18.29</td>\n",
       "</tr>\n",
       "<tr>\n",
       "  <th>Df Model:</th>              <td>     2</td>      <th>                     </th>     <td> </td>   \n",
       "</tr>\n",
       "<tr>\n",
       "  <th>Covariance Type:</th>      <td>nonrobust</td>    <th>                     </th>     <td> </td>   \n",
       "</tr>\n",
       "</table>\n",
       "<table class=\"simpletable\">\n",
       "<tr>\n",
       "      <td></td>         <th>coef</th>     <th>std err</th>      <th>t</th>      <th>P>|t|</th>  <th>[0.025</th>    <th>0.975]</th>  \n",
       "</tr>\n",
       "<tr>\n",
       "  <th>Intercept</th> <td>    0.5935</td> <td>    0.313</td> <td>    1.894</td> <td> 0.069</td> <td>   -0.049</td> <td>    1.235</td>\n",
       "</tr>\n",
       "<tr>\n",
       "  <th>width</th>     <td>   -0.2070</td> <td>    0.047</td> <td>   -4.388</td> <td> 0.000</td> <td>   -0.304</td> <td>   -0.110</td>\n",
       "</tr>\n",
       "<tr>\n",
       "  <th>log_age</th>   <td>   -0.3001</td> <td>    0.066</td> <td>   -4.581</td> <td> 0.000</td> <td>   -0.434</td> <td>   -0.166</td>\n",
       "</tr>\n",
       "</table>\n",
       "<table class=\"simpletable\">\n",
       "<tr>\n",
       "  <th>Omnibus:</th>       <td> 3.078</td> <th>  Durbin-Watson:     </th> <td>   2.360</td>\n",
       "</tr>\n",
       "<tr>\n",
       "  <th>Prob(Omnibus):</th> <td> 0.215</td> <th>  Jarque-Bera (JB):  </th> <td>   2.723</td>\n",
       "</tr>\n",
       "<tr>\n",
       "  <th>Skew:</th>          <td> 0.700</td> <th>  Prob(JB):          </th> <td>   0.256</td>\n",
       "</tr>\n",
       "<tr>\n",
       "  <th>Kurtosis:</th>      <td> 2.616</td> <th>  Cond. No.          </th> <td>    32.6</td>\n",
       "</tr>\n",
       "</table><br/><br/>Notes:<br/>[1] Standard Errors assume that the covariance matrix of the errors is correctly specified."
      ],
      "text/plain": [
       "<class 'statsmodels.iolib.summary.Summary'>\n",
       "\"\"\"\n",
       "                            OLS Regression Results                            \n",
       "==============================================================================\n",
       "Dep. Variable:                log_apr   R-squared:                       0.594\n",
       "Model:                            OLS   Adj. R-squared:                  0.565\n",
       "Method:                 Least Squares   F-statistic:                     20.49\n",
       "Date:                Fri, 18 Nov 2022   Prob (F-statistic):           3.30e-06\n",
       "Time:                        08:23:05   Log-Likelihood:                -3.9952\n",
       "No. Observations:                  31   AIC:                             13.99\n",
       "Df Residuals:                      28   BIC:                             18.29\n",
       "Df Model:                           2                                         \n",
       "Covariance Type:            nonrobust                                         \n",
       "==============================================================================\n",
       "                 coef    std err          t      P>|t|      [0.025      0.975]\n",
       "------------------------------------------------------------------------------\n",
       "Intercept      0.5935      0.313      1.894      0.069      -0.049       1.235\n",
       "width         -0.2070      0.047     -4.388      0.000      -0.304      -0.110\n",
       "log_age       -0.3001      0.066     -4.581      0.000      -0.434      -0.166\n",
       "==============================================================================\n",
       "Omnibus:                        3.078   Durbin-Watson:                   2.360\n",
       "Prob(Omnibus):                  0.215   Jarque-Bera (JB):                2.723\n",
       "Skew:                           0.700   Prob(JB):                        0.256\n",
       "Kurtosis:                       2.616   Cond. No.                         32.6\n",
       "==============================================================================\n",
       "\n",
       "Notes:\n",
       "[1] Standard Errors assume that the covariance matrix of the errors is correctly specified.\n",
       "\"\"\""
      ]
     },
     "execution_count": 18,
     "metadata": {},
     "output_type": "execute_result"
    }
   ],
   "source": [
    "lm = smf.ols(formula='log_apr ~ width + log_age', data=df).fit()\n",
    "lm.summary()"
   ]
  },
  {
   "cell_type": "code",
   "execution_count": 19,
   "metadata": {},
   "outputs": [
    {
     "data": {
      "image/png": "[encoded data removed]",
      "text/plain": [
       "<Figure size 593.75x500 with 1 Axes>"
      ]
     },
     "metadata": {},
     "output_type": "display_data"
    }
   ],
   "source": [
    "# compare predictions and observations\n",
    "df['APR_pred'] = np.exp(lm.predict())\n",
    "df['APR_minus_APR_pred'] = df.APR - df.APR_pred\n",
    "sns.relplot(data=df, x='APR', y='APR_pred', hue='pool_fees');"
   ]
  },
  {
   "cell_type": "markdown",
   "metadata": {},
   "source": [
    "#### Predict the APR of your LP position"
   ]
  },
  {
   "cell_type": "code",
   "execution_count": 21,
   "metadata": {},
   "outputs": [
    {
     "name": "stdout",
     "output_type": "stream",
     "text": [
      "Given a width of 0.2094 for your limit prices, linear regression predicts the APR (IL accounted) of your position will be 70.55% if you provide liquidity for 20 days.\n"
     ]
    }
   ],
   "source": [
    "# input\n",
    "your_width = 0.2094  # upper limit price - lower limit price\n",
    "your_pool_age = 20   # in days\n",
    "\n",
    "newdata = pd.DataFrame({'width': [your_width], 'age': [your_pool_age]})\n",
    "newdata['log_age'] = np.log(newdata.age)\n",
    "your_apr = np.exp(lm.predict(newdata))[0]\n",
    "\n",
    "print(\"Given a width of {} for your limit prices, linear regression predicts the APR (IL accounted) of your position will be {:.2%} if you provide liquidity for {} days.\".format(your_width, your_apr, your_pool_age))"
   ]
  },
  {
   "cell_type": "code",
   "execution_count": null,
   "metadata": {},
   "outputs": [],
   "source": []
  }
 ],
 "metadata": {
  "kernelspec": {
   "display_name": "Python 3.10.8 64-bit ('3.10.8')",
   "language": "python",
   "name": "python3"
  },
  "language_info": {
   "codemirror_mode": {
    "name": "ipython",
    "version": 3
   },
   "file_extension": ".py",
   "mimetype": "text/x-python",
   "name": "python",
   "nbconvert_exporter": "python",
   "pygments_lexer": "ipython3",
   "version": "3.10.8"
  },
  "vscode": {
   "interpreter": {
    "hash": "cd871bcb4a3c3b6367e380cf91a83c5d0ddf61f244736b190bbda87038e56a9c"
   }
  }
 },
 "nbformat": 4,
 "nbformat_minor": 4
}
